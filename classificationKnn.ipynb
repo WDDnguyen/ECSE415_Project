{
 "cells": [
  {
   "cell_type": "markdown",
   "metadata": {},
   "source": [
    "### Classification using KNN"
   ]
  },
  {
   "cell_type": "code",
   "execution_count": 1,
   "metadata": {},
   "outputs": [],
   "source": [
    "import cv2\n",
    "import numpy as np\n",
    "import matplotlib.pyplot as plt\n",
    "import os\n",
    "import csv\n",
    "from sklearn.model_selection import train_test_split"
   ]
  },
  {
   "cell_type": "code",
   "execution_count": 2,
   "metadata": {},
   "outputs": [],
   "source": [
    "# extract images from label directories into training and test sets\n",
    "def extract_label_images(path,label,training_images,training_labels,train_value,test_images,test_labels,test_value):\n",
    "    new_path = path + \"/\" +label\n",
    "    train_count = 0\n",
    "    test_count = 0\n",
    "    \n",
    "    ## resize images to 64x64 grayscale \n",
    "    for file in os.listdir(new_path):\n",
    "    # grab only 10 images from label directory for testing purposes \n",
    "        if (train_count < train_value):\n",
    "            img = cv2.cvtColor(cv2.imread(os.path.join(new_path+ \"/\" +file)), cv2.COLOR_BGR2GRAY)\n",
    "            #print(img.shape)\n",
    "            img = cv2.resize(img,(64,64))\n",
    "            training_images.append(img)\n",
    "            training_labels.append(label)\n",
    "            train_count = train_count + 1 \n",
    "            \n",
    "        elif (test_count < test_value):\n",
    "            img = cv2.cvtColor(cv2.imread(os.path.join(new_path+ \"/\" +file)), cv2.COLOR_BGR2GRAY)\n",
    "            img = cv2.resize(img,(64,64))\n",
    "            test_images.append(img)\n",
    "            test_labels.append(label)\n",
    "            test_count = test_count + 1 \n",
    "        else:\n",
    "            break\n",
    "            \n",
    "    print(\"FINISH EXTRACTING LABEL : \", label)\n",
    "    print(\"NUMBER OF SAMPLE FOR LABEL :\", train_count)\n",
    "    return training_images,test_images\n"
   ]
  },
  {
   "cell_type": "code",
   "execution_count": null,
   "metadata": {},
   "outputs": [],
   "source": []
  },
  {
   "cell_type": "code",
   "execution_count": 6,
   "metadata": {},
   "outputs": [],
   "source": [
    "def extractLabels(path):\n",
    "    label_list = []\n",
    "    for file in os.listdir(path):\n",
    "        label_list.append(\"\"+file)\n",
    "    return label_list\n"
   ]
  },
  {
   "cell_type": "code",
   "execution_count": 4,
   "metadata": {},
   "outputs": [],
   "source": [
    "def getHogFeatures(images):\n",
    "    cell_size = (4, 4)  # h x w in pixels\n",
    "    block_size = (4, 4)  # h x w in cells\n",
    "    nbins = 8  # number of orientation bins\n",
    "    \n",
    "    hog = cv2.HOGDescriptor(_winSize=(images[0].shape[1] // cell_size[1] * cell_size[1],\n",
    "                                          images[0].shape[0] // cell_size[0] * cell_size[0]),\n",
    "                                _blockSize=(block_size[1] * cell_size[1],\n",
    "                                            block_size[0] * cell_size[0]),\n",
    "                                _blockStride=(cell_size[1], cell_size[0]),\n",
    "                                _cellSize=(cell_size[1], cell_size[0]),\n",
    "                                _nbins=nbins)\n",
    "    \n",
    "    n_cells = (images[0].shape[0] // cell_size[0], images[0].shape[1] // cell_size[1])\n",
    "    \n",
    "    listOfHogFeatures = []\n",
    "    for img in images:\n",
    "        # create HoG Object\n",
    "        # winSize is the size of the image cropped to an multiple of the cell size\n",
    "        \n",
    "\n",
    "        # Compute HoG features\n",
    "        hog_feats = hog.compute(img)\\\n",
    "                       .reshape(n_cells[1] - block_size[1] + 1,\n",
    "                                n_cells[0] - block_size[0] + 1,\n",
    "                                block_size[0], block_size[1], nbins) \\\n",
    "                       .transpose((1, 0, 2, 3, 4))  # index blocks by rows first\n",
    "\n",
    "        # hog_feats now contains the gradient amplitudes for each direction,for each cell of its group for each group.\n",
    "        # Indexing is by rows then columns.\n",
    "        # computation for BlockNorm\n",
    "        gradients = np.full((n_cells[0], n_cells[1], 8), 0, dtype=float)\n",
    "        cell_count = np.full((n_cells[0], n_cells[1], 1), 0, dtype=int)\n",
    "\n",
    "        for off_y in range(block_size[0]):\n",
    "            for off_x in range(block_size[1]):\n",
    "                gradients[off_y:n_cells[0] - block_size[0] + off_y + 1,\n",
    "                          off_x:n_cells[1] - block_size[1] + off_x + 1] += \\\n",
    "                    hog_feats[:, :, off_y, off_x, :]\n",
    "                cell_count[off_y:n_cells[0] - block_size[0] + off_y + 1,\n",
    "                           off_x:n_cells[1] - block_size[1] + off_x + 1] += 1\n",
    "\n",
    "        # Average gradients\n",
    "        gradients /= cell_count\n",
    "        # turn gradient 32,32,8 3D array to 1D for training \n",
    "        reshaped_gradients = gradients.ravel()\n",
    "        listOfHogFeatures.append(reshaped_gradients)\n",
    "        \n",
    "    return listOfHogFeatures\n"
   ]
  },
  {
   "cell_type": "code",
   "execution_count": 5,
   "metadata": {},
   "outputs": [
    {
     "name": "stdout",
     "output_type": "stream",
     "text": [
      "FINISH EXTRACTING LABEL :  articulated_truck\n",
      "NUMBER OF SAMPLE FOR LABEL : 5000\n",
      "FINISH EXTRACTING LABEL :  background\n",
      "NUMBER OF SAMPLE FOR LABEL : 5000\n",
      "FINISH EXTRACTING LABEL :  bicycle\n",
      "NUMBER OF SAMPLE FOR LABEL : 2284\n",
      "FINISH EXTRACTING LABEL :  bus\n",
      "NUMBER OF SAMPLE FOR LABEL : 5000\n",
      "FINISH EXTRACTING LABEL :  car\n",
      "NUMBER OF SAMPLE FOR LABEL : 5000\n",
      "FINISH EXTRACTING LABEL :  motorcycle\n",
      "NUMBER OF SAMPLE FOR LABEL : 1982\n",
      "FINISH EXTRACTING LABEL :  non-motorized_vehicle\n",
      "NUMBER OF SAMPLE FOR LABEL : 1751\n",
      "FINISH EXTRACTING LABEL :  pedestrian\n",
      "NUMBER OF SAMPLE FOR LABEL : 5000\n",
      "FINISH EXTRACTING LABEL :  pickup_truck\n",
      "NUMBER OF SAMPLE FOR LABEL : 5000\n",
      "FINISH EXTRACTING LABEL :  single_unit_truck\n",
      "NUMBER OF SAMPLE FOR LABEL : 5000\n",
      "FINISH EXTRACTING LABEL :  work_van\n",
      "NUMBER OF SAMPLE FOR LABEL : 5000\n",
      "46017\n",
      "46017\n",
      "8\n",
      "8\n"
     ]
    }
   ],
   "source": [
    "training_set_path= r\"./MIO-TCD-Classification/train\"\n",
    "labels = extractLabels(training_set_path)\n",
    "train_images = []\n",
    "train_labels = []\n",
    "train_value = 5000\n",
    "\n",
    "test_images = []\n",
    "test_labels = []\n",
    "test_value = 1\n",
    "\n",
    "## Extracting 64x64 gray scale images from each label directory\n",
    "for label in labels:\n",
    "    extract_label_images(training_set_path, label, train_images, train_labels, train_value, test_images, test_labels, test_value)\n",
    "\n",
    "print(len(train_images))\n",
    "print(len(train_labels))\n",
    "print(len(test_images))\n",
    "print(len(test_labels))\n"
   ]
  },
  {
   "cell_type": "code",
   "execution_count": 5,
   "metadata": {},
   "outputs": [
    {
     "name": "stdout",
     "output_type": "stream",
     "text": [
      "2048\n"
     ]
    }
   ],
   "source": [
    "## extract hog features of each images of labels \n",
    "training_img_features = getHogFeatures(train_images)"
   ]
  },
  {
   "cell_type": "code",
   "execution_count": 6,
   "metadata": {},
   "outputs": [],
   "source": [
    "from sklearn.neighbors import KNeighborsClassifier\n",
    "\n",
    "model = KNeighborsClassifier(n_neighbors=3, n_jobs = 4)"
   ]
  },
  {
   "cell_type": "markdown",
   "metadata": {},
   "source": [
    "### Cross validation"
   ]
  },
  {
   "cell_type": "code",
   "execution_count": 7,
   "metadata": {},
   "outputs": [
    {
     "name": "stdout",
     "output_type": "stream",
     "text": [
      "(45556, 2048)\n",
      "(461, 2048)\n",
      "(45556,)\n",
      "(461,)\n"
     ]
    }
   ],
   "source": [
    "training_img_features = np.array(training_img_features)\n",
    "train_labels = np.array(train_labels)\n",
    "# randomize training set.\n",
    "X_train, X_test, label_train, Y_test = train_test_split(training_img_features, train_labels, train_size=0.99, test_size=0.01)\n",
    "print(X_train.shape)\n",
    "print(X_test.shape)\n",
    "print(label_train.shape)\n",
    "print(Y_test.shape)\n"
   ]
  },
  {
   "cell_type": "code",
   "execution_count": 8,
   "metadata": {},
   "outputs": [
    {
     "name": "stdout",
     "output_type": "stream",
     "text": [
      "ACCURACY : 0.7684372256365233\n",
      "PRECISION : 0.7684372256365233\n",
      "RECALL :  0.7684372256365233\n",
      "ACCURACY : 0.7570237050043899\n",
      "PRECISION : 0.7570237050043899\n",
      "RECALL :  0.7570237050043899\n",
      "ACCURACY : 0.754828797190518\n",
      "PRECISION : 0.754828797190518\n",
      "RECALL :  0.754828797190518\n",
      "ACCURACY : 0.7456101843722563\n",
      "PRECISION : 0.7456101843722563\n",
      "RECALL :  0.7456101843722563\n",
      "ACCURACY : 0.7480245829675154\n",
      "PRECISION : 0.7480245829675154\n",
      "RECALL :  0.7480245829675154\n",
      "ACCURACY : 0.7561457418788411\n",
      "PRECISION : 0.7561457418788411\n",
      "RECALL :  0.7561457418788411\n",
      "ACCURACY : 0.7554335894621296\n",
      "PRECISION : 0.7554335894621296\n",
      "RECALL :  0.7554335894621296\n",
      "ACCURACY : 0.7523600439077937\n",
      "PRECISION : 0.7523600439077937\n",
      "RECALL :  0.7523600439077937\n",
      "ACCURACY : 0.750384193194292\n",
      "PRECISION : 0.750384193194292\n",
      "RECALL :  0.750384193194292\n",
      "ACCURACY : 0.748847420417124\n",
      "PRECISION : 0.748847420417124\n",
      "RECALL :  0.748847420417124\n",
      "ACCURACY DATA : \n",
      "[0.7684372256365233, 0.7570237050043899, 0.754828797190518, 0.7456101843722563, 0.7480245829675154, 0.7561457418788411, 0.7554335894621296, 0.7523600439077937, 0.750384193194292, 0.748847420417124]\n",
      "PRECISION DATA : \n",
      "[0.7684372256365233, 0.7570237050043899, 0.754828797190518, 0.7456101843722563, 0.7480245829675154, 0.7561457418788411, 0.7554335894621296, 0.7523600439077937, 0.750384193194292, 0.748847420417124]\n",
      "RECALL : \n",
      "[0.7684372256365233, 0.7570237050043899, 0.754828797190518, 0.7456101843722563, 0.7480245829675154, 0.7561457418788411, 0.7554335894621296, 0.7523600439077937, 0.750384193194292, 0.748847420417124]\n"
     ]
    }
   ],
   "source": [
    "from sklearn.model_selection import KFold\n",
    "from sklearn.metrics import precision_score\n",
    "from sklearn.metrics import recall_score\n",
    "from sklearn.metrics import accuracy_score\n",
    "\n",
    "kf_splitter = KFold(n_splits=10)\n",
    "\n",
    "valid_label_prediction_accuracy = []\n",
    "valid_label_prediction_precision = []\n",
    "valid_label_prediction_recall = []\n",
    "\n",
    "# kfold cross validation\n",
    "for train_index, valid_index in kf_splitter.split(X_train):\n",
    "\n",
    "    train_set = X_train[train_index, :]\n",
    "    t_label = label_train[train_index]\n",
    "    \n",
    "    # Get our validation data in this fold\n",
    "    valid_set = X_train[valid_index, :]\n",
    "    v_label = label_train[valid_index]\n",
    "    \n",
    "    # Train KNN Classfier\n",
    "    model.fit(train_set, t_label)\n",
    "    \n",
    "    # Get our prediction for validation:\n",
    "    prediction_valid = model.predict(valid_set)\n",
    "    \n",
    "    accuracy = accuracy_score(v_label, prediction_valid)\n",
    "    print(\"ACCURACY :\", accuracy)\n",
    "    valid_label_prediction_accuracy.append(accuracy)\n",
    "    \n",
    "    precision = precision_score(v_label, prediction_valid, average='micro')\n",
    "    print(\"PRECISION :\", precision)\n",
    "    valid_label_prediction_precision.append(precision)\n",
    "    \n",
    "    recall = recall_score(v_label, prediction_valid, average='micro')\n",
    "    print(\"RECALL : \", recall)\n",
    "    valid_label_prediction_recall.append(recall)\n",
    "    \n",
    "print(\"ACCURACY DATA : \")\n",
    "print(valid_label_prediction_accuracy)\n",
    "print(\"PRECISION DATA : \")\n",
    "print(valid_label_prediction_precision)\n",
    "print(\"RECALL : \")\n",
    "print(valid_label_prediction_recall)"
   ]
  },
  {
   "cell_type": "code",
   "execution_count": 9,
   "metadata": {},
   "outputs": [
    {
     "name": "stdout",
     "output_type": "stream",
     "text": [
      "AVERAGE ACCURACY SCORE :  75.37095484031383 %\n",
      "STANDARD DEVIATION :  0.6103164364900331 %\n",
      "AVERAGE RECALL SCORE :  75.37095484031383 %\n",
      "AVERAGE PRECISION SCORE :  75.37095484031383 %\n"
     ]
    }
   ],
   "source": [
    "print(\"AVERAGE ACCURACY SCORE : \", str(np.mean(valid_label_prediction_accuracy) * 100) + \" %\")\n",
    "print(\"STANDARD DEVIATION : \", str(np.std(valid_label_prediction_accuracy) * 100) + \" %\")\n",
    "print(\"AVERAGE RECALL SCORE : \", str(np.mean(valid_label_prediction_recall) * 100) + \" %\")\n",
    "print(\"AVERAGE PRECISION SCORE : \", str(np.mean(valid_label_prediction_precision) * 100) + \" %\")"
   ]
  },
  {
   "cell_type": "markdown",
   "metadata": {},
   "source": [
    "### Confusion matrix"
   ]
  },
  {
   "cell_type": "code",
   "execution_count": 10,
   "metadata": {},
   "outputs": [
    {
     "data": {
      "text/plain": [
       "<matplotlib.image.AxesImage at 0x1901cfd43c8>"
      ]
     },
     "execution_count": 10,
     "metadata": {},
     "output_type": "execute_result"
    },
    {
     "data": {
      "image/png": "[encoded data removed]",
      "text/plain": [
       "<Figure size 432x288 with 1 Axes>"
      ]
     },
     "metadata": {},
     "output_type": "display_data"
    }
   ],
   "source": [
    "\n",
    "from sklearn.metrics import confusion_matrix\n",
    "conf = confusion_matrix(prediction_valid, v_label)\n",
    "plt.figure()\n",
    "plt.imshow(conf)"
   ]
  },
  {
   "cell_type": "code",
   "execution_count": null,
   "metadata": {},
   "outputs": [],
   "source": [
    "## SAVING MODEL\n",
    "\n",
    "from sklearn.externals import joblib\n",
    "joblib.dump(model, 'filename.pk1')"
   ]
  }
 ],
 "metadata": {
  "kernelspec": {
   "display_name": "Python 3",
   "language": "python",
   "name": "python3"
  },
  "language_info": {
   "codemirror_mode": {
    "name": "ipython",
    "version": 3
   },
   "file_extension": ".py",
   "mimetype": "text/x-python",
   "name": "python",
   "nbconvert_exporter": "python",
   "pygments_lexer": "ipython3",
   "version": "3.6.5"
  }
 },
 "nbformat": 4,
 "nbformat_minor": 2
}
